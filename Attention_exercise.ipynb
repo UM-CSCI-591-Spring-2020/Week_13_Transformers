{
  "nbformat": 4,
  "nbformat_minor": 0,
  "metadata": {
    "kernelspec": {
      "display_name": "Python 3",
      "language": "python",
      "name": "python3"
    },
    "language_info": {
      "codemirror_mode": {
        "name": "ipython",
        "version": 3
      },
      "file_extension": ".py",
      "mimetype": "text/x-python",
      "name": "python",
      "nbconvert_exporter": "python",
      "pygments_lexer": "ipython3",
      "version": "3.7.6"
    },
    "colab": {
      "name": "Attention_exercise.ipynb",
      "provenance": [],
      "collapsed_sections": []
    },
    "accelerator": "GPU"
  },
  "cells": [
    {
      "cell_type": "markdown",
      "metadata": {
        "id": "bGC7hu_9mnWf",
        "colab_type": "text"
      },
      "source": [
        "# Week 13 Exercise - Transformers\n",
        "\n",
        "In this notebook, we will explore the creation of a Transformer Network for English to French translation.  Note that **Transformers are resource intensive and hard to train.** You will want to run these notebooks on a machine equipped with a GPU or on [Google Colab](http://colab.research.google.com).\n",
        "\n",
        "To begin, let's import a corpus of paired English and French text.  Additionally, we'll tokenize the words (i.e. create a dictionary for each vocabulary associating every word with an integer index).  There is no need to modify this cell, but have a look at what is contained in fr_to_ix (for example) and in enlines.  "
      ]
    },
    {
      "cell_type": "code",
      "metadata": {
        "id": "gKXpuCUvmpGp",
        "colab_type": "code",
        "outputId": "e8f852e7-d3cb-4b93-af2a-3f9c6c77bc78",
        "colab": {
          "resources": {
            "http://localhost:8080/nbextensions/google.colab/files.js": {
              "data": "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",
              "ok": true,
              "headers": [
                [
                  "content-type",
                  "application/javascript"
                ]
              ],
              "status": 200,
              "status_text": ""
            }
          },
          "base_uri": "https://localhost:8080/",
          "height": 74
        }
      },
      "source": [
        "from google.colab import files\n",
        "src = list(files.upload().values())[0]"
      ],
      "execution_count": 2,
      "outputs": [
        {
          "output_type": "display_data",
          "data": {
            "text/html": [
              "\n",
              "     <input type=\"file\" id=\"files-74827a3f-ea67-4e8e-b45b-d605105a2f2a\" name=\"files[]\" multiple disabled />\n",
              "     <output id=\"result-74827a3f-ea67-4e8e-b45b-d605105a2f2a\">\n",
              "      Upload widget is only available when the cell has been executed in the\n",
              "      current browser session. Please rerun this cell to enable.\n",
              "      </output>\n",
              "      <script src=\"/nbextensions/google.colab/files.js\"></script> "
            ],
            "text/plain": [
              "<IPython.core.display.HTML object>"
            ]
          },
          "metadata": {
            "tags": []
          }
        },
        {
          "output_type": "stream",
          "text": [
            "Saving english.txt to english.txt\n"
          ],
          "name": "stdout"
        }
      ]
    },
    {
      "cell_type": "code",
      "metadata": {
        "id": "pSYfRIofnmh9",
        "colab_type": "code",
        "outputId": "f70b3074-c369-40fc-adc5-3b8ccd137873",
        "colab": {
          "resources": {
            "http://localhost:8080/nbextensions/google.colab/files.js": {
              "data": "Ly8gQ29weXJpZ2h0IDIwMTcgR29vZ2xlIExMQwovLwovLyBMaWNlbnNlZCB1bmRlciB0aGUgQXBhY2hlIExpY2Vuc2UsIFZlcnNpb24gMi4wICh0aGUgIkxpY2Vuc2UiKTsKLy8geW91IG1heSBub3QgdXNlIHRoaXMgZmlsZSBleGNlcHQgaW4gY29tcGxpYW5jZSB3aXRoIHRoZSBMaWNlbnNlLgovLyBZb3UgbWF5IG9idGFpbiBhIGNvcHkgb2YgdGhlIExpY2Vuc2UgYXQKLy8KLy8gICAgICBodHRwOi8vd3d3LmFwYWNoZS5vcmcvbGljZW5zZXMvTElDRU5TRS0yLjAKLy8KLy8gVW5sZXNzIHJlcXVpcmVkIGJ5IGFwcGxpY2FibGUgbGF3IG9yIGFncmVlZCB0byBpbiB3cml0aW5nLCBzb2Z0d2FyZQovLyBkaXN0cmlidXRlZCB1bmRlciB0aGUgTGljZW5zZSBpcyBkaXN0cmlidXRlZCBvbiBhbiAiQVMgSVMiIEJBU0lTLAovLyBXSVRIT1VUIFdBUlJBTlRJRVMgT1IgQ09ORElUSU9OUyBPRiBBTlkgS0lORCwgZWl0aGVyIGV4cHJlc3Mgb3IgaW1wbGllZC4KLy8gU2VlIHRoZSBMaWNlbnNlIGZvciB0aGUgc3BlY2lmaWMgbGFuZ3VhZ2UgZ292ZXJuaW5nIHBlcm1pc3Npb25zIGFuZAovLyBsaW1pdGF0aW9ucyB1bmRlciB0aGUgTGljZW5zZS4KCi8qKgogKiBAZmlsZW92ZXJ2aWV3IEhlbHBlcnMgZm9yIGdvb2dsZS5jb2xhYiBQeXRob24gbW9kdWxlLgogKi8KKGZ1bmN0aW9uKHNjb3BlKSB7CmZ1bmN0aW9uIHNwYW4odGV4dCwgc3R5bGVBdHRyaWJ1dGVzID0ge30pIHsKICBjb25zdCBlbGVtZW50ID0gZG9jdW1lbnQuY3JlYXRlRWxlbWVudCgnc3BhbicpOwogIGVsZW1lbnQudGV4dENvbnRlbnQgPSB0ZXh0OwogIGZvciAoY29uc3Qga2V5IG9mIE9iamVjdC5rZXlzKHN0eWxlQXR0cmlidXRlcykpIHsKICAgIGVsZW1lbnQuc3R5bGVba2V5XSA9IHN0eWxlQXR0cmlidXRlc1trZXldOwogIH0KICByZXR1cm4gZWxlbWVudDsKfQoKLy8gTWF4IG51bWJlciBvZiBieXRlcyB3aGljaCB3aWxsIGJlIHVwbG9hZGVkIGF0IGEgdGltZS4KY29uc3QgTUFYX1BBWUxPQURfU0laRSA9IDEwMCAqIDEwMjQ7Ci8vIE1heCBhbW91bnQgb2YgdGltZSB0byBibG9jayB3YWl0aW5nIGZvciB0aGUgdXNlci4KY29uc3QgRklMRV9DSEFOR0VfVElNRU9VVF9NUyA9IDMwICogMTAwMDsKCmZ1bmN0aW9uIF91cGxvYWRGaWxlcyhpbnB1dElkLCBvdXRwdXRJZCkgewogIGNvbnN0IHN0ZXBzID0gdXBsb2FkRmlsZXNTdGVwKGlucHV0SWQsIG91dHB1dElkKTsKICBjb25zdCBvdXRwdXRFbGVtZW50ID0gZG9jdW1lbnQuZ2V0RWxlbWVudEJ5SWQob3V0cHV0SWQpOwogIC8vIENhY2hlIHN0ZXBzIG9uIHRoZSBvdXRwdXRFbGVtZW50IHRvIG1ha2UgaXQgYXZhaWxhYmxlIGZvciB0aGUgbmV4dCBjYWxsCiAgLy8gdG8gdXBsb2FkRmlsZXNDb250aW51ZSBmcm9tIFB5dGhvbi4KICBvdXRwdXRFbGVtZW50LnN0ZXBzID0gc3RlcHM7CgogIHJldHVybiBfdXBsb2FkRmlsZXNDb250aW51ZShvdXRwdXRJZCk7Cn0KCi8vIFRoaXMgaXMgcm91Z2hseSBhbiBhc3luYyBnZW5lcmF0b3IgKG5vdCBzdXBwb3J0ZWQgaW4gdGhlIGJyb3dzZXIgeWV0KSwKLy8gd2hlcmUgdGhlcmUgYXJlIG11bHRpcGxlIGFzeW5jaHJvbm91cyBzdGVwcyBhbmQgdGhlIFB5dGhvbiBzaWRlIGlzIGdvaW5nCi8vIHRvIHBvbGwgZm9yIGNvbXBsZXRpb24gb2YgZWFjaCBzdGVwLgovLyBUaGlzIHVzZXMgYSBQcm9taXNlIHRvIGJsb2NrIHRoZSBweXRob24gc2lkZSBvbiBjb21wbGV0aW9uIG9mIGVhY2ggc3RlcCwKLy8gdGhlbiBwYXNzZXMgdGhlIHJlc3VsdCBvZiB0aGUgcHJldmlvdXMgc3RlcCBhcyB0aGUgaW5wdXQgdG8gdGhlIG5leHQgc3RlcC4KZnVuY3Rpb24gX3VwbG9hZEZpbGVzQ29udGludWUob3V0cHV0SWQpIHsKICBjb25zdCBvdXRwdXRFbGVtZW50ID0gZG9jdW1lbnQuZ2V0RWxlbWVudEJ5SWQob3V0cHV0SWQpOwogIGNvbnN0IHN0ZXBzID0gb3V0cHV0RWxlbWVudC5zdGVwczsKCiAgY29uc3QgbmV4dCA9IHN0ZXBzLm5leHQob3V0cHV0RWxlbWVudC5sYXN0UHJvbWlzZVZhbHVlKTsKICByZXR1cm4gUHJvbWlzZS5yZXNvbHZlKG5leHQudmFsdWUucHJvbWlzZSkudGhlbigodmFsdWUpID0+IHsKICAgIC8vIENhY2hlIHRoZSBsYXN0IHByb21pc2UgdmFsdWUgdG8gbWFrZSBpdCBhdmFpbGFibGUgdG8gdGhlIG5leHQKICAgIC8vIHN0ZXAgb2YgdGhlIGdlbmVyYXRvci4KICAgIG91dHB1dEVsZW1lbnQubGFzdFByb21pc2VWYWx1ZSA9IHZhbHVlOwogICAgcmV0dXJuIG5leHQudmFsdWUucmVzcG9uc2U7CiAgfSk7Cn0KCi8qKgogKiBHZW5lcmF0b3IgZnVuY3Rpb24gd2hpY2ggaXMgY2FsbGVkIGJldHdlZW4gZWFjaCBhc3luYyBzdGVwIG9mIHRoZSB1cGxvYWQKICogcHJvY2Vzcy4KICogQHBhcmFtIHtzdHJpbmd9IGlucHV0SWQgRWxlbWVudCBJRCBvZiB0aGUgaW5wdXQgZmlsZSBwaWNrZXIgZWxlbWVudC4KICogQHBhcmFtIHtzdHJpbmd9IG91dHB1dElkIEVsZW1lbnQgSUQgb2YgdGhlIG91dHB1dCBkaXNwbGF5LgogKiBAcmV0dXJuIHshSXRlcmFibGU8IU9iamVjdD59IEl0ZXJhYmxlIG9mIG5leHQgc3RlcHMuCiAqLwpmdW5jdGlvbiogdXBsb2FkRmlsZXNTdGVwKGlucHV0SWQsIG91dHB1dElkKSB7CiAgY29uc3QgaW5wdXRFbGVtZW50ID0gZG9jdW1lbnQuZ2V0RWxlbWVudEJ5SWQoaW5wdXRJZCk7CiAgaW5wdXRFbGVtZW50LmRpc2FibGVkID0gZmFsc2U7CgogIGNvbnN0IG91dHB1dEVsZW1lbnQgPSBkb2N1bWVudC5nZXRFbGVtZW50QnlJZChvdXRwdXRJZCk7CiAgb3V0cHV0RWxlbWVudC5pbm5lckhUTUwgPSAnJzsKCiAgY29uc3QgcGlja2VkUHJvbWlzZSA9IG5ldyBQcm9taXNlKChyZXNvbHZlKSA9PiB7CiAgICBpbnB1dEVsZW1lbnQuYWRkRXZlbnRMaXN0ZW5lcignY2hhbmdlJywgKGUpID0+IHsKICAgICAgcmVzb2x2ZShlLnRhcmdldC5maWxlcyk7CiAgICB9KTsKICB9KTsKCiAgY29uc3QgY2FuY2VsID0gZG9jdW1lbnQuY3JlYXRlRWxlbWVudCgnYnV0dG9uJyk7CiAgaW5wdXRFbGVtZW50LnBhcmVudEVsZW1lbnQuYXBwZW5kQ2hpbGQoY2FuY2VsKTsKICBjYW5jZWwudGV4dENvbnRlbnQgPSAnQ2FuY2VsIHVwbG9hZCc7CiAgY29uc3QgY2FuY2VsUHJvbWlzZSA9IG5ldyBQcm9taXNlKChyZXNvbHZlKSA9PiB7CiAgICBjYW5jZWwub25jbGljayA9ICgpID0+IHsKICAgICAgcmVzb2x2ZShudWxsKTsKICAgIH07CiAgfSk7CgogIC8vIENhbmNlbCB1cGxvYWQgaWYgdXNlciBoYXNuJ3QgcGlja2VkIGFueXRoaW5nIGluIHRpbWVvdXQuCiAgY29uc3QgdGltZW91dFByb21pc2UgPSBuZXcgUHJvbWlzZSgocmVzb2x2ZSkgPT4gewogICAgc2V0VGltZW91dCgoKSA9PiB7CiAgICAgIHJlc29sdmUobnVsbCk7CiAgICB9LCBGSUxFX0NIQU5HRV9USU1FT1VUX01TKTsKICB9KTsKCiAgLy8gV2FpdCBmb3IgdGhlIHVzZXIgdG8gcGljayB0aGUgZmlsZXMuCiAgY29uc3QgZmlsZXMgPSB5aWVsZCB7CiAgICBwcm9taXNlOiBQcm9taXNlLnJhY2UoW3BpY2tlZFByb21pc2UsIHRpbWVvdXRQcm9taXNlLCBjYW5jZWxQcm9taXNlXSksCiAgICByZXNwb25zZTogewogICAgICBhY3Rpb246ICdzdGFydGluZycsCiAgICB9CiAgfTsKCiAgaWYgKCFmaWxlcykgewogICAgcmV0dXJuIHsKICAgICAgcmVzcG9uc2U6IHsKICAgICAgICBhY3Rpb246ICdjb21wbGV0ZScsCiAgICAgIH0KICAgIH07CiAgfQoKICBjYW5jZWwucmVtb3ZlKCk7CgogIC8vIERpc2FibGUgdGhlIGlucHV0IGVsZW1lbnQgc2luY2UgZnVydGhlciBwaWNrcyBhcmUgbm90IGFsbG93ZWQuCiAgaW5wdXRFbGVtZW50LmRpc2FibGVkID0gdHJ1ZTsKCiAgZm9yIChjb25zdCBmaWxlIG9mIGZpbGVzKSB7CiAgICBjb25zdCBsaSA9IGRvY3VtZW50LmNyZWF0ZUVsZW1lbnQoJ2xpJyk7CiAgICBsaS5hcHBlbmQoc3BhbihmaWxlLm5hbWUsIHtmb250V2VpZ2h0OiAnYm9sZCd9KSk7CiAgICBsaS5hcHBlbmQoc3BhbigKICAgICAgICBgKCR7ZmlsZS50eXBlIHx8ICduL2EnfSkgLSAke2ZpbGUuc2l6ZX0gYnl0ZXMsIGAgKwogICAgICAgIGBsYXN0IG1vZGlmaWVkOiAkewogICAgICAgICAgICBmaWxlLmxhc3RNb2RpZmllZERhdGUgPyBmaWxlLmxhc3RNb2RpZmllZERhdGUudG9Mb2NhbGVEYXRlU3RyaW5nKCkgOgogICAgICAgICAgICAgICAgICAgICAgICAgICAgICAgICAgICAnbi9hJ30gLSBgKSk7CiAgICBjb25zdCBwZXJjZW50ID0gc3BhbignMCUgZG9uZScpOwogICAgbGkuYXBwZW5kQ2hpbGQocGVyY2VudCk7CgogICAgb3V0cHV0RWxlbWVudC5hcHBlbmRDaGlsZChsaSk7CgogICAgY29uc3QgZmlsZURhdGFQcm9taXNlID0gbmV3IFByb21pc2UoKHJlc29sdmUpID0+IHsKICAgICAgY29uc3QgcmVhZGVyID0gbmV3IEZpbGVSZWFkZXIoKTsKICAgICAgcmVhZGVyLm9ubG9hZCA9IChlKSA9PiB7CiAgICAgICAgcmVzb2x2ZShlLnRhcmdldC5yZXN1bHQpOwogICAgICB9OwogICAgICByZWFkZXIucmVhZEFzQXJyYXlCdWZmZXIoZmlsZSk7CiAgICB9KTsKICAgIC8vIFdhaXQgZm9yIHRoZSBkYXRhIHRvIGJlIHJlYWR5LgogICAgbGV0IGZpbGVEYXRhID0geWllbGQgewogICAgICBwcm9taXNlOiBmaWxlRGF0YVByb21pc2UsCiAgICAgIHJlc3BvbnNlOiB7CiAgICAgICAgYWN0aW9uOiAnY29udGludWUnLAogICAgICB9CiAgICB9OwoKICAgIC8vIFVzZSBhIGNodW5rZWQgc2VuZGluZyB0byBhdm9pZCBtZXNzYWdlIHNpemUgbGltaXRzLiBTZWUgYi82MjExNTY2MC4KICAgIGxldCBwb3NpdGlvbiA9IDA7CiAgICB3aGlsZSAocG9zaXRpb24gPCBmaWxlRGF0YS5ieXRlTGVuZ3RoKSB7CiAgICAgIGNvbnN0IGxlbmd0aCA9IE1hdGgubWluKGZpbGVEYXRhLmJ5dGVMZW5ndGggLSBwb3NpdGlvbiwgTUFYX1BBWUxPQURfU0laRSk7CiAgICAgIGNvbnN0IGNodW5rID0gbmV3IFVpbnQ4QXJyYXkoZmlsZURhdGEsIHBvc2l0aW9uLCBsZW5ndGgpOwogICAgICBwb3NpdGlvbiArPSBsZW5ndGg7CgogICAgICBjb25zdCBiYXNlNjQgPSBidG9hKFN0cmluZy5mcm9tQ2hhckNvZGUuYXBwbHkobnVsbCwgY2h1bmspKTsKICAgICAgeWllbGQgewogICAgICAgIHJlc3BvbnNlOiB7CiAgICAgICAgICBhY3Rpb246ICdhcHBlbmQnLAogICAgICAgICAgZmlsZTogZmlsZS5uYW1lLAogICAgICAgICAgZGF0YTogYmFzZTY0LAogICAgICAgIH0sCiAgICAgIH07CiAgICAgIHBlcmNlbnQudGV4dENvbnRlbnQgPQogICAgICAgICAgYCR7TWF0aC5yb3VuZCgocG9zaXRpb24gLyBmaWxlRGF0YS5ieXRlTGVuZ3RoKSAqIDEwMCl9JSBkb25lYDsKICAgIH0KICB9CgogIC8vIEFsbCBkb25lLgogIHlpZWxkIHsKICAgIHJlc3BvbnNlOiB7CiAgICAgIGFjdGlvbjogJ2NvbXBsZXRlJywKICAgIH0KICB9Owp9CgpzY29wZS5nb29nbGUgPSBzY29wZS5nb29nbGUgfHwge307CnNjb3BlLmdvb2dsZS5jb2xhYiA9IHNjb3BlLmdvb2dsZS5jb2xhYiB8fCB7fTsKc2NvcGUuZ29vZ2xlLmNvbGFiLl9maWxlcyA9IHsKICBfdXBsb2FkRmlsZXMsCiAgX3VwbG9hZEZpbGVzQ29udGludWUsCn07Cn0pKHNlbGYpOwo=",
              "ok": true,
              "headers": [
                [
                  "content-type",
                  "application/javascript"
                ]
              ],
              "status": 200,
              "status_text": ""
            }
          },
          "base_uri": "https://localhost:8080/",
          "height": 74
        }
      },
      "source": [
        "from google.colab import files\n",
        "src = list(files.upload().values())[0]"
      ],
      "execution_count": 3,
      "outputs": [
        {
          "output_type": "display_data",
          "data": {
            "text/html": [
              "\n",
              "     <input type=\"file\" id=\"files-b5707204-bf5d-4cce-8f45-31ad64c724eb\" name=\"files[]\" multiple disabled />\n",
              "     <output id=\"result-b5707204-bf5d-4cce-8f45-31ad64c724eb\">\n",
              "      Upload widget is only available when the cell has been executed in the\n",
              "      current browser session. Please rerun this cell to enable.\n",
              "      </output>\n",
              "      <script src=\"/nbextensions/google.colab/files.js\"></script> "
            ],
            "text/plain": [
              "<IPython.core.display.HTML object>"
            ]
          },
          "metadata": {
            "tags": []
          }
        },
        {
          "output_type": "stream",
          "text": [
            "Saving french.txt to french.txt\n"
          ],
          "name": "stdout"
        }
      ]
    },
    {
      "cell_type": "code",
      "metadata": {
        "id": "zmqX6-gun5jC",
        "colab_type": "code",
        "outputId": "af708d95-b0ce-484f-8116-25dab40a6426",
        "colab": {
          "base_uri": "https://localhost:8080/",
          "height": 34
        }
      },
      "source": [
        "import os \n",
        "os.listdir()"
      ],
      "execution_count": 4,
      "outputs": [
        {
          "output_type": "execute_result",
          "data": {
            "text/plain": [
              "['.config', 'french.txt', 'english.txt', 'sample_data']"
            ]
          },
          "metadata": {
            "tags": []
          },
          "execution_count": 4
        }
      ]
    },
    {
      "cell_type": "code",
      "metadata": {
        "id": "7MwqexnkmnWg",
        "colab_type": "code",
        "colab": {}
      },
      "source": [
        "import re\n",
        "import numpy as np\n",
        "import torch\n",
        "import torch.nn as nn\n",
        "import torch.nn.functional as F\n",
        "import torch.optim as optim\n",
        "import math\n",
        "from torch.utils.data import Dataset, DataLoader\n",
        "from torch.autograd import Variable\n",
        "import numpy as np\n",
        "import matplotlib.pyplot as plt\n",
        "\n",
        "if torch.cuda.is_available():  \n",
        "    device = \"cuda:0\" \n",
        "else:  \n",
        "    device = \"cpu\" \n",
        "\n",
        "with open('./french.txt', encoding=\"utf-8\") as file:\n",
        "    frvocab = file.read().lower()\n",
        "    frvocab = ''.join([i if ord(i) < 128 else ' ' for i in frvocab])\n",
        "    frlines = frvocab.split('\\n')\n",
        "frlines = [re.sub(r'[^\\w\\s\\']','',i).split() for i in frlines]\n",
        "frvocab = set(re.sub(r'[^\\w\\s\\']','',frvocab).replace('\\n',' ').split(' '))\n",
        "\n",
        "with open('./english.txt', encoding=\"utf-8\") as file:\n",
        "    envocab = file.read().lower()\n",
        "    envocab = ''.join([i if ord(i) < 128 else '' for i in envocab])\n",
        "    enlines = envocab.split('\\n')\n",
        "enlines = [re.sub(r'[^\\w\\s]','',i).split() for i in enlines]\n",
        "envocab = set(re.sub(r'[^\\w\\s]','',envocab).replace('\\n',' ').strip().split(' '))\n",
        "envocab.add('<pad>')\n",
        "envocab.add('<start>')\n",
        "envocab.add('<eos>')\n",
        "frvocab.add('<pad>')\n",
        "frvocab.add('<start>')\n",
        "frvocab.add('<eos>')\n",
        "fr_to_ix = {word: i for i, word in enumerate(frvocab)}\n",
        "en_to_ix = {word: i for i, word in enumerate(envocab)}\n",
        "ix_to_fr = {fr_to_ix[word]:word for word in frvocab}\n",
        "ix_to_en = {en_to_ix[word]:word for word in envocab}\n",
        "enmax = 0\n",
        "frmax = 16\n",
        "\n",
        "for i,w in enumerate(enlines):\n",
        "    temp = len(w)\n",
        "    if temp > enmax:\n",
        "        enmax = temp\n",
        "\n",
        "for i,w in enumerate(frlines):\n",
        "    temp = len(w)\n",
        "    if temp > frmax:\n",
        "        frmax = temp"
      ],
      "execution_count": 0,
      "outputs": []
    },
    {
      "cell_type": "markdown",
      "metadata": {
        "id": "f8VIjeB2mnWj",
        "colab_type": "text"
      },
      "source": [
        "Next we'll create a handful of helper functions that do things like\n",
        " - Tokenize an english string, run it through the transformer producing predictions, then convert back to a french string\n",
        " - Compare predicted and target output\n",
        " - Mask a string\n",
        " - Load paired english/french sequences"
      ]
    },
    {
      "cell_type": "code",
      "metadata": {
        "id": "hMimt9IZmnWk",
        "colab_type": "code",
        "colab": {}
      },
      "source": [
        "def translate(sentence):\n",
        "    # Read in an english string\n",
        "    line = re.sub(r'[^\\w\\s]','',sentence).split()\n",
        "    # tokenize/pad for consistent sequence length\n",
        "    line = F.pad(torch.tensor([en_to_ix[w.lower()] for w in line]),(0,enmax-len(line)),value = en_to_ix['<pad>']).unsqueeze(0).to(device)\n",
        "    # Create an array to hold the French sentence\n",
        "    target = torch.Tensor(1,frmax-1)\n",
        "    target = target.new_full((1,frmax-1),fr_to_ix['<pad>']).long().to(device)\n",
        "    # Start sentence with a <start> character\n",
        "    target[0,0] = fr_to_ix['<start>']\n",
        "    \n",
        "    src,trg = mask(line,target)\n",
        "    encoding = model.encode(line,src)\n",
        "    K,V = model.create_dec_KV(encoding)\n",
        "    for i in range(1,frmax-1):\n",
        "        test2 = model.decode(target,K,V,src,trg)\n",
        "        lastout = test2[0,i-1].argmax()\n",
        "        if lastout.item() == fr_to_ix['<eos>']:\n",
        "            break\n",
        "        target[0,i] = lastout\n",
        "        src,trg = mask(line,target)\n",
        "    translation = test2.argmax(2).squeeze(0)\n",
        "    translation_string = ''\n",
        "    for w in translation:\n",
        "        if ix_to_fr[w.item()] == '<eos>':\n",
        "            break\n",
        "        translation_string += ix_to_fr[w.item()] + ' '\n",
        "    return translation_string.strip()\n",
        "\n",
        "def compareoutput(preds,targetlist,loc=None):\n",
        "    # Compare model predictions with true translation\n",
        "    if loc is None:\n",
        "        loc = np.random.randint(len(preds))\n",
        "    predstr = ''\n",
        "    labelstr = ''\n",
        "    for i in range(len(preds[loc][0])):\n",
        "        if ix_to_fr[targetlist[loc][i+1].item()] == '<eos>':\n",
        "            break\n",
        "        predstr += ' '+ ix_to_fr[preds[loc][0][i].item()]\n",
        "        labelstr += ' ' + ix_to_fr[targetlist[loc][i+1].item()]\n",
        "    print(\"\\tOutput:\", predstr)\n",
        "    print(\"\\tTarget:\",labelstr)\n",
        "    \n",
        "class PositionalEncoder(nn.Module):\n",
        "    # Create a positional encoding generator\n",
        "    def __init__(self, d_model, max_seq_len = 58):\n",
        "        super().__init__()\n",
        "        self.d_model = d_model\n",
        "        \n",
        "        # create constant 'pe' matrix with values dependant on \n",
        "        # pos and i\n",
        "        pe = torch.zeros(max_seq_len, d_model)\n",
        "        for pos in range(max_seq_len):\n",
        "            for i in range(0, d_model, 2):\n",
        "                pe[pos, i] = \\\n",
        "                math.sin(pos / (10000 ** ((2 * i)/d_model)))\n",
        "            for i in range(1,d_model,2):\n",
        "                pe[pos, i] = \\\n",
        "                math.cos(pos / (10000 ** ((2 * i)/d_model)))\n",
        "                \n",
        "        pe = pe\n",
        "        self.register_buffer('pe', pe)\n",
        " \n",
        "    \n",
        "    def forward(self, x):\n",
        "        # make embeddings relatively larger\n",
        "        x = x * math.sqrt(self.d_model)\n",
        "        #add constant to embedding\n",
        "        seq_len = x.size(1)\n",
        "        x = x + Variable(self.pe[:seq_len], \\\n",
        "        requires_grad=False).to(device)\n",
        "        return x\n",
        "\n",
        "def mask(input_seq,target_seq):\n",
        "    input_msk = (input_seq != en_to_ix['<pad>']).unsqueeze(1)\n",
        "    target_msk = (target_seq != fr_to_ix['<pad>']).unsqueeze(1)\n",
        "    size = target_seq.size(1) # get seq_len for matrix\n",
        "    nopeak_mask = np.triu(np.ones((1, size, size)),k=1)\n",
        "    nopeak_mask = Variable(torch.from_numpy(nopeak_mask).to(device) == 0)\n",
        "    target_msk = target_msk & nopeak_mask\n",
        "    return input_msk,target_msk\n",
        "\n",
        "class custdata(Dataset):\n",
        "    # Create a custom dataset object to serve up paired english and french lines\n",
        "    def __init__(self,enlines,frlines):\n",
        "        self.data_len = len(enlines) \n",
        "        self.data = [F.pad(torch.tensor([en_to_ix[w] for w in line]),(0,enmax-len(line)),value = en_to_ix['<pad>']).to(device) for line in enlines]\n",
        "        self.labels = []\n",
        "        for line in frlines:\n",
        "            line = ['<start>',*line,'<eos>']\n",
        "            self.labels.append(F.pad(torch.tensor([fr_to_ix[w] for w in line]),(0,frmax-len(line)),value = fr_to_ix['<pad>']).to(device))\n",
        "    \n",
        "    def __getitem__(self, i):\n",
        "        return self.data[i],self.labels[i]\n",
        "\n",
        "    def __len__(self):\n",
        "        return self.data_len"
      ],
      "execution_count": 0,
      "outputs": []
    },
    {
      "cell_type": "markdown",
      "metadata": {
        "id": "5f8YCCodmnWn",
        "colab_type": "text"
      },
      "source": [
        "# Attention\n",
        "The first task is to code a self-attention mechanism, which corresponds to implementing Eq. 1 in Vaswani.\n",
        "#### http://jalammar.github.io/illustrated-transformer/ is a great reference for most of the programming in this notebook"
      ]
    },
    {
      "cell_type": "code",
      "metadata": {
        "id": "2I8fPZEkmnWo",
        "colab_type": "code",
        "colab": {}
      },
      "source": [
        "class self_attention(nn.Module):\n",
        "    def __init__(self,dim,enc_dim,dropout = .1):\n",
        "        super().__init__()\n",
        "        self.wq = nn.Linear(dim,enc_dim)\n",
        "        self.wk = nn.Linear(dim,enc_dim)\n",
        "        self.wv = nn.Linear(dim,enc_dim)\n",
        "        self.dropout = nn.Dropout(dropout)\n",
        "        \n",
        "        self.scaler = np.sqrt(enc_dim)\n",
        "    \n",
        "    def QKV(self,x):\n",
        "        Q = self.wq(x)\n",
        "        K = self.wk(x)\n",
        "        V = self.wv(x)\n",
        "        return Q,K,V\n",
        "    \n",
        "    def score(self,Q,K,V,mask):\n",
        "        # scores are the stuff that goes inside the softmax\n",
        "        scores = Q@K.T.permute(2,0,1)/self.scaler ### TODO ### CALCULATE THE SCORES. !!!DONT TOUCH THE PERMUTE!!!\n",
        "        if mask is not None:\n",
        "            scores = scores.masked_fill(mask == 0, -1e9)\n",
        "        scores = self.dropout(F.softmax(scores,-1)) \n",
        "        return scores@V\n",
        "    \n",
        "    def forward(self,x,mask=None):\n",
        "        Q,K,V = self.QKV(x)\n",
        "        return self.score(Q,K,V,mask)\n",
        "   "
      ],
      "execution_count": 0,
      "outputs": []
    },
    {
      "cell_type": "markdown",
      "metadata": {
        "id": "ny5exoa4mnWr",
        "colab_type": "text"
      },
      "source": [
        "Next, we need to produce the \"special\" attention mechanism that takes keys and values from the encoder, but queries from the decoder.  This is very similar to the self-attention mechanism, except that there should be two inputs.  "
      ]
    },
    {
      "cell_type": "code",
      "metadata": {
        "id": "AUAjr3p1mnWr",
        "colab_type": "code",
        "colab": {}
      },
      "source": [
        "class encdec_attention(nn.Module):\n",
        "    def __init__(self,dim,dropout = .1):\n",
        "        super().__init__()\n",
        "        self.wq = nn.Linear(dim,dim)\n",
        "        self.wk = nn.Linear(dim,dim)\n",
        "        self.wv = nn.Linear(dim,dim)\n",
        "        self.scaler = np.sqrt(dim)\n",
        "        self.dropout = nn.Dropout(dropout)\n",
        "        \n",
        "    def Q(self,x):\n",
        "        return self.wq(x)\n",
        "    \n",
        "    def score(self,Q,K,V,mask):\n",
        "        scores =  Q@K.T.permute(2,0,1)/self.scaler #### TODO #### SAME AS ABOVE\n",
        "        if mask is not None:\n",
        "            scores = scores.masked_fill(mask == 0, -1e9)\n",
        "        scores = self.dropout(F.softmax(scores,-1)) \n",
        "        return scores@V  #### TODO #### SAME AS ABOVE\n",
        "    \n",
        "    def forward(self,x,K,V,mask):\n",
        "        # DB Note: I'm not sure that this signature is right.  Seems like we should be taking x from the\n",
        "        # decoder, as well as another argument (call it y?) from the encoder, then producing K,V,Q internally,\n",
        "        # just like in the self-attention scheme.  Otherwise, how are wk and wv being used here?  it looks like \n",
        "        # these parameters have been shifted over to the Transformer module's create_dec_KV method.\n",
        "        Q = self.Q(x)\n",
        "        out = self.score(Q,K,V,mask)\n",
        "        return out"
      ],
      "execution_count": 0,
      "outputs": []
    },
    {
      "cell_type": "markdown",
      "metadata": {
        "id": "moO-O98RmnWu",
        "colab_type": "text"
      },
      "source": [
        "# Encoder and Decoder\n",
        "With the attention mechanisms coded, now we need to create encoder and decoder models. These correspond to the things inside the boxes in Figure 1 of Vaswani.  \n",
        "#### Fill in the forward passes of the encoder and decoder"
      ]
    },
    {
      "cell_type": "code",
      "metadata": {
        "id": "pMTjpQatmnWv",
        "colab_type": "code",
        "colab": {}
      },
      "source": [
        "class encoder(nn.Module):\n",
        "    def __init__(self,dim,enc_dim,vocab_size,dropout=.1):\n",
        "        super().__init__()\n",
        "        self.dim = dim\n",
        "        self.enc_dim = enc_dim\n",
        "        self.residual = nn.Linear(dim,enc_dim)\n",
        "        \n",
        "        self.attention = self_attention(dim,enc_dim,dropout)\n",
        "        self.norm1 = nn.LayerNorm(enc_dim)\n",
        "        self.linear = nn.Sequential(\n",
        "            nn.Linear(enc_dim,enc_dim),\n",
        "            nn.ReLU()\n",
        "        )\n",
        "        self.norm2 = nn.LayerNorm(enc_dim)\n",
        "    \n",
        "    def forward(self,x,mask):  #### TODO #### SET UP FORWARD PASS OF ENCODER\n",
        "        shortcut = x\n",
        "        x = self.attention(x)\n",
        "        if self.dim != self.enc_dim: ### DONT TOUCH, THIS IS TO HELP WITH THE RESIDUAL CONNECTION ###\n",
        "            x = self.residual(x)\n",
        "        x = self.norm1(x+shortcut)\n",
        "        shortcut = x\n",
        "        x = self.linear(x)\n",
        "        x = self.norm2(x+shortcut)\n",
        "        return x\n",
        "     \n",
        "        \n",
        "class decoder(nn.Module):\n",
        "    def __init__(self,dim,input_size,vocab_size,dropout=.1):\n",
        "        super().__init__()\n",
        "        self.attention = self_attention(input_size,dim,dropout)\n",
        "        self.norm1 = nn.LayerNorm(dim)\n",
        "        self.EDattention = encdec_attention(dim,dropout)\n",
        "        self.norm2 = nn.LayerNorm(dim)\n",
        "        self.linear = nn.Sequential(\n",
        "            nn.Linear(dim,dim),\n",
        "            nn.ReLU()\n",
        "        )\n",
        "        self.norm3 = nn.LayerNorm(dim)\n",
        "    \n",
        "    def forward(self,x,k,v,enc_mask,dec_mask):#### TODO #### SET UP FORWARD PASS OF DECODER\n",
        "        shortcut = x \n",
        "        x = self.attention(x,dec_mask)\n",
        "        x = self.norm1(x+shortcut)\n",
        "        shortcut = x\n",
        "        x = self.EDattention(x,k,v,enc_mask)\n",
        "        x = x + shortcut\n",
        "        shortcut = x\n",
        "        x = self.linear(x)\n",
        "        return self.norm3(x+shortcut)\n",
        "    "
      ],
      "execution_count": 0,
      "outputs": []
    },
    {
      "cell_type": "markdown",
      "metadata": {
        "id": "7CoUQEBLmnWz",
        "colab_type": "text"
      },
      "source": [
        "# Transformer\n",
        "\n",
        "Build the transformer itself by hooking together encoders and decoders.  Note the word embedding layers that we are going to learn.  \n",
        "\n",
        "#### Add encoders and decoders to transformer"
      ]
    },
    {
      "cell_type": "code",
      "metadata": {
        "id": "pdb026dLmnW0",
        "colab_type": "code",
        "colab": {}
      },
      "source": [
        "class transformer(nn.Module):\n",
        "    def __init__(self,dim,encoder_dim,enc_vocab_size,dec_vocab_size,input_size):\n",
        "        super().__init__()\n",
        "        self.embedding1 = nn.Embedding(enc_vocab_size,dim)\n",
        "        self.embedding2 = nn.Embedding(dec_vocab_size,encoder_dim)\n",
        "        \n",
        "        self.pe1 = PositionalEncoder(dim,enmax)\n",
        "        self.pe2 = PositionalEncoder(encoder_dim,frmax)\n",
        "        self.encoders = []\n",
        "    \n",
        "        self.encoders.extend([encoder(dim, encoder_dim ,enc_vocab_size) for _ in range(3)]) #### TODO #### ADD DESIRED # OF ENCODERS TO SELF.ENCODERS\n",
        "        \n",
        "        \n",
        "        self.encoders = nn.ModuleList(self.encoders)\n",
        "        \n",
        "        self.decoders = []\n",
        "        \n",
        "        \n",
        "        self.decoders.extend([decoder(encoder_dim, encoder_dim, dec_vocab_size) for _ in range(3)]) #### TODO #### ADD DESIRED # OF DECODERS TO SELF.DECODERS\n",
        "\n",
        "       \n",
        "        self.decoders = nn.ModuleList(self.decoders)\n",
        "        \n",
        "        self.final = nn.Sequential(\n",
        "            nn.Linear(encoder_dim,dec_vocab_size),\n",
        "            nn.LogSoftmax(2)\n",
        "        )\n",
        "        \n",
        "        self.k = nn.Linear(encoder_dim,encoder_dim)\n",
        "        self.v = nn.Linear(encoder_dim,encoder_dim)\n",
        "    def create_dec_KV(self,z):\n",
        "        K = self.k(z)\n",
        "        V = self.v(z)\n",
        "        return K,V\n",
        "    \n",
        "    def encode(self,x,src):\n",
        "        x = self.embedding1(x)\n",
        "        x = self.pe1(x)\n",
        "        for layer in self.encoders:\n",
        "            x = layer(x,src)\n",
        "        return x\n",
        "    \n",
        "    def decode(self,y,K,V,src,trg):\n",
        "        y = self.embedding2(y)\n",
        "        y = self.pe2(y)\n",
        "        for layer in self.decoders:\n",
        "            y = layer(y,K,V,src,trg)\n",
        "        return self.final(y)\n",
        "    \n",
        "    def forward(self,x,y,src,trg):\n",
        "        \n",
        "        x = self.encode(x,src)\n",
        "        K,V = self.create_dec_KV(x)\n",
        "        y = self.decode(y,K,V,src,trg)\n",
        "        return y"
      ],
      "execution_count": 0,
      "outputs": []
    },
    {
      "cell_type": "markdown",
      "metadata": {
        "id": "t4jMhq_VmnW3",
        "colab_type": "text"
      },
      "source": [
        "# Train the network.\n",
        "\n",
        "##### This will be slow to train and require a lot of resources. You can reduce the batch_size to lower the vram requirement, you can reduce \n",
        "##### the run time by lowering number_of_lines"
      ]
    },
    {
      "cell_type": "code",
      "metadata": {
        "id": "3QjjDpZBmnW3",
        "colab_type": "code",
        "colab": {}
      },
      "source": [
        "model = transformer(enmax,enmax,len(envocab),len(frvocab),frmax)\n",
        "model = model.to(device)"
      ],
      "execution_count": 0,
      "outputs": []
    },
    {
      "cell_type": "code",
      "metadata": {
        "id": "ep7a1bQ8mnW6",
        "colab_type": "code",
        "colab": {}
      },
      "source": [
        "optimizer = optim.Adam(model.parameters(), lr=0.01,weight_decay=.00001)\n",
        "scheduler = torch.optim.lr_scheduler.ReduceLROnPlateau(optimizer,factor=.1,patience=10,threshold=1,min_lr=.0001)\n",
        "criterion = nn.NLLLoss()"
      ],
      "execution_count": 0,
      "outputs": []
    },
    {
      "cell_type": "code",
      "metadata": {
        "id": "fZ1hZeijmnW8",
        "colab_type": "code",
        "colab": {}
      },
      "source": [
        "BATCH_SIZE = 128\n",
        "NUMBER_OF_LINES = 20000\n",
        "\n",
        "train = custdata(enlines[:NUMBER_OF_LINES],frlines[:NUMBER_OF_LINES])\n",
        "trainloader = torch.utils.data.DataLoader(dataset=train, batch_size=BATCH_SIZE, shuffle=True)\n",
        "val = custdata(enlines[NUMBER_OF_LINES:NUMBER_OF_LINES+1000],frlines[NUMBER_OF_LINES:NUMBER_OF_LINES+1000])\n",
        "valloader = torch.utils.data.DataLoader(dataset=val, batch_size=1, shuffle=True, drop_last=False)\n",
        "test = custdata(enlines[NUMBER_OF_LINES+1000:NUMBER_OF_LINES+2000],frlines[NUMBER_OF_LINES+1000:NUMBER_OF_LINES+2000])\n",
        "testloader = torch.utils.data.DataLoader(dataset=test, batch_size=1, shuffle=False, drop_last=False)"
      ],
      "execution_count": 0,
      "outputs": []
    },
    {
      "cell_type": "code",
      "metadata": {
        "id": "kDy3P32AmnW_",
        "colab_type": "code",
        "outputId": "9b71774e-3d46-47c9-b41c-61562310973a",
        "colab": {
          "base_uri": "https://localhost:8080/",
          "height": 1000
        }
      },
      "source": [
        "for i in range(100):\n",
        "    model.train()\n",
        "    total_loss = 0\n",
        "    for j,(context, target) in enumerate(trainloader):\n",
        "        trg_input = target[:,:-1]\n",
        "        outmask = target[:,1:]!= fr_to_ix['<pad>']\n",
        "        targets = target[:,1:].contiguous().view(-1)\n",
        "        src,trg = mask(context,trg_input)\n",
        "        output = model(context,trg_input,src,trg)\n",
        "        optimizer.zero_grad()\n",
        "        loss = criterion(output.view(output.shape[0]*output.shape[1],-1),targets)\n",
        "        loss.backward()\n",
        "        total_loss += loss.item()\n",
        "        optimizer.step()\n",
        "    scheduler.step(total_loss)\n",
        "    print('Epoch:', i+1,' loss:', total_loss)\n",
        "    model.eval()\n",
        "    scores = []\n",
        "    preds = []\n",
        "    targetlist = []\n",
        "    for j,(context, target) in enumerate(valloader):\n",
        "            trg_input = target[:,:-1]\n",
        "            targets = target.contiguous().view(-1)\n",
        "            targetlist.append(targets)\n",
        "            src,trg = mask(context,trg_input)\n",
        "            output = model(context,trg_input,src,trg)\n",
        "            pred = F.softmax(output,2).argmax(2)\n",
        "            preds.append(pred)\n",
        "            break\n",
        "    compareoutput(preds,targetlist,loc=0)"
      ],
      "execution_count": 20,
      "outputs": [
        {
          "output_type": "stream",
          "text": [
            "Epoch: 1  loss: 147.0674066543579\n",
            "\tOutput:  je <eos>\n",
            "\tTarget:  tesvous productif\n",
            "Epoch: 2  loss: 62.72770228981972\n",
            "\tOutput:  je me\n",
            "\tTarget:  doisje tudier\n",
            "Epoch: 3  loss: 48.46027368307114\n",
            "\tOutput:  ne me pas <eos>\n",
            "\tTarget:  ne perdez pas espoir\n",
            "Epoch: 4  loss: 41.26837536692619\n",
            "\tOutput:  il es <eos> <eos> de vous\n",
            "\tTarget:  tu n'auras pas besoin de moi\n",
            "Epoch: 5  loss: 34.86220647394657\n",
            "\tOutput:  vous avez trop trop tard\n",
            "\tTarget:  vous tes venus trop tard\n",
            "Epoch: 6  loss: 29.05304390192032\n",
            "\tOutput:  tu tes s\n",
            "\tTarget:  vous tes beau\n",
            "Epoch: 7  loss: 25.252122327685356\n",
            "\tOutput:  vous la t\n",
            "\tTarget:  aimestu l' t\n",
            "Epoch: 8  loss: 22.82152684777975\n",
            "\tOutput:  vous es respectueux\n",
            "\tTarget:  tu es courageux\n",
            "Epoch: 9  loss: 21.11154491454363\n",
            "\tOutput:  vous tes tr s amusant <pad>\n",
            "\tTarget:  vous tes tr s dr le\n",
            "Epoch: 10  loss: 19.911836341023445\n",
            "\tOutput:  tu le <eos> train terre\n",
            "\tTarget:  c'est toi le ma tre\n",
            "Epoch: 11  loss: 19.217497050762177\n",
            "\tOutput:  vous tes fort dr le\n",
            "\tTarget:  vous tes fort dr le\n",
            "Epoch: 12  loss: 13.01737255603075\n",
            "\tOutput:  vous pouvez tous tous deux\n",
            "\tTarget:  vous pouvez avoir les deux\n",
            "Epoch: 13  loss: 10.598033867776394\n",
            "\tOutput:  peuxtu lire de musique\n",
            "\tTarget:  savezvous lire la musique\n",
            "Epoch: 14  loss: 9.562534507364035\n",
            "\tOutput:  sontils satisfaites\n",
            "\tTarget:  sontelles contentes\n",
            "Epoch: 15  loss: 8.861769646406174\n",
            "\tOutput:  estu seul <eos>\n",
            "\tTarget:  tesvous seul ici\n",
            "Epoch: 16  loss: 8.39987551048398\n",
            "\tOutput:  ne soyez pas si invit ch\n",
            "\tTarget:  ne sois pas si s lective\n",
            "Epoch: 17  loss: 7.98216275125742\n",
            "\tOutput:  il avez besoin de protection <eos> classe\n",
            "\tTarget:  vous avez besoin de points de suture\n",
            "Epoch: 18  loss: 7.674803234636784\n",
            "\tOutput:  vous tes fort timide\n",
            "\tTarget:  vous tes fort timide\n",
            "Epoch: 19  loss: 7.435341265052557\n",
            "\tOutput:  tu avez l'air en\n",
            "\tTarget:  vous avez l'air terrible\n",
            "Epoch: 20  loss: 7.219394471496344\n",
            "\tOutput:  puisje que je peux y aller maintenant\n",
            "\tTarget:  estce que je pourrais y aller maintenant\n",
            "Epoch: 21  loss: 6.996654473245144\n",
            "\tOutput:  pourquoi cette <eos> risque\n",
            "\tTarget:  pourquoi encourir le risque\n",
            "Epoch: 22  loss: 6.835267834365368\n",
            "\tOutput:  vous tes fid ferme\n",
            "\tTarget:  vous tes la chef\n",
            "Epoch: 23  loss: 5.9577704928815365\n",
            "\tOutput:  tesvous acteurs\n",
            "\tTarget:  tesvous inscrit\n",
            "Epoch: 24  loss: 5.809337947517633\n",
            "\tOutput:  qui se ta pendule\n",
            "\tTarget:  qui est cette horloge\n",
            "Epoch: 25  loss: 5.743424007669091\n",
            "\tOutput:  vous es tr s riche\n",
            "\tTarget:  tu es tr s riche\n",
            "Epoch: 26  loss: 5.7057363502681255\n",
            "\tOutput:  qui t'a a envoy e\n",
            "\tTarget:  qui vous a envoy ici\n",
            "Epoch: 27  loss: 5.6505872793495655\n",
            "\tOutput:  peuxtu me pardonner\n",
            "\tTarget:  pouvezvous me pardonner\n",
            "Epoch: 28  loss: 5.627909239381552\n",
            "\tOutput:  te senstu coupable\n",
            "\tTarget:  te senstu coupable\n",
            "Epoch: 29  loss: 5.595686050131917\n",
            "\tOutput:  vous es fort s courageux\n",
            "\tTarget:  tu es tr s courageux\n",
            "Epoch: 30  loss: 5.529508601874113\n",
            "\tOutput:  vous un vous te <eos>\n",
            "\tTarget:  veuxtu que je t'emm ne\n",
            "Epoch: 31  loss: 5.536463478580117\n",
            "\tOutput:  vous tes honte honte\n",
            "\tTarget:  vous tes une honte\n",
            "Epoch: 32  loss: 5.492734448984265\n",
            "\tOutput:  peuxtu me pardonner\n",
            "\tTarget:  pouvezvous me pardonner\n",
            "Epoch: 33  loss: 5.481747539713979\n",
            "\tOutput:  vous tes trop poli\n",
            "\tTarget:  vous tes trop poli\n",
            "Epoch: 34  loss: 5.457221873104572\n",
            "\tOutput:  tu tes tudiant tudiant\n",
            "\tTarget:  vous tes un tudiant\n",
            "Epoch: 35  loss: 5.413876624777913\n",
            "\tOutput:  aimestu des airs\n",
            "\tTarget:  aimezvous les robots\n",
            "Epoch: 36  loss: 5.399038340896368\n",
            "\tOutput:  peuxtu vous faire\n",
            "\tTarget:  pouvezvous le croire\n",
            "Epoch: 37  loss: 5.346799058839679\n",
            "\tOutput:  vous tes trop tard tard\n",
            "\tTarget:  vous tes venue trop tard\n",
            "Epoch: 38  loss: 5.351746041327715\n",
            "\tOutput:  astu v ceci <eos>\n",
            "\tTarget:  astu v rifi ceci\n",
            "Epoch: 39  loss: 5.311470149084926\n",
            "\tOutput:  vous es malpoli toit ferme\n",
            "\tTarget:  tu es le ma tre\n",
            "Epoch: 40  loss: 5.293048124760389\n",
            "\tOutput:  astu vu quelqu'un que tu que\n",
            "\tTarget:  astu vu qui que ce soit\n",
            "Epoch: 41  loss: 5.264971198514104\n",
            "\tOutput:  puisje me un coup\n",
            "\tTarget:  puisje obtenir un remboursement\n",
            "Epoch: 42  loss: 5.256234999746084\n",
            "\tOutput:  tesvous occup aujourd'hui\n",
            "\tTarget:  estu occup aujourd'hui\n",
            "Epoch: 43  loss: 5.247228449210525\n",
            "\tOutput:  pourquoi estu seul\n",
            "\tTarget:  pourquoi tesvous seule\n",
            "Epoch: 44  loss: 5.1891748290508986\n",
            "\tOutput:  y pr tes y\n",
            "\tTarget:  sommesnous pr ts partir\n",
            "Epoch: 45  loss: 5.197932126000524\n",
            "\tOutput:  tu as <eos> <eos>\n",
            "\tTarget:  tu aurais pu mourir\n",
            "Epoch: 46  loss: 5.185855828225613\n",
            "\tOutput:  vous en savez trop\n",
            "\tTarget:  vous en savez trop\n",
            "Epoch: 47  loss: 5.156294768676162\n",
            "\tOutput:  aimestu le sport\n",
            "\tTarget:  aimestu le sport\n",
            "Epoch: 48  loss: 5.0894726775586605\n",
            "\tOutput:  j'en tesvous des coop\n",
            "\tTarget:  vous prenez la visa\n",
            "Epoch: 49  loss: 5.064997786656022\n",
            "\tOutput:  tu tes l mon chemin\n",
            "\tTarget:  vous tes sur mon chemin\n",
            "Epoch: 50  loss: 5.064289206638932\n",
            "\tOutput:  vous es tr timide\n",
            "\tTarget:  tu es fort timide\n",
            "Epoch: 51  loss: 5.018674056977034\n",
            "\tOutput:  pourquoi estu seul\n",
            "\tTarget:  pourquoi tesvous seule\n",
            "Epoch: 52  loss: 5.0038322154432535\n",
            "\tOutput:  tu es la plus e\n",
            "\tTarget:  tu es l'a n e\n",
            "Epoch: 53  loss: 4.980660999193788\n",
            "\tOutput:  aimestu des\n",
            "\tTarget:  aimezvous wagner\n",
            "Epoch: 54  loss: 4.9660195372998714\n",
            "\tOutput:  tu ne <eos> <eos> <eos> moi\n",
            "\tTarget:  tu n'auras pas besoin de moi\n",
            "Epoch: 55  loss: 4.953073604032397\n",
            "\tOutput:  vous tes beau\n",
            "\tTarget:  vous tes beaux\n",
            "Epoch: 56  loss: 4.924616368487477\n",
            "\tOutput:  tesvous en s\n",
            "\tTarget:  tesvous en vacances\n",
            "Epoch: 57  loss: 4.895638033747673\n",
            "\tOutput:  pourquoi astu fait\n",
            "\tTarget:  pourquoi l'avezvous fait\n",
            "Epoch: 58  loss: 4.864337237551808\n",
            "\tOutput:  vous es nouveau la nouveau\n",
            "\tTarget:  tu es nouveau de retour\n",
            "Epoch: 59  loss: 4.85176825709641\n",
            "\tOutput:  ta femme est l\n",
            "\tTarget:  ta femme est ici\n",
            "Epoch: 60  loss: 4.855044698342681\n",
            "\tOutput:  vous tes tr timide\n",
            "\tTarget:  vous tes fort craintives\n",
            "Epoch: 61  loss: 4.805026246234775\n",
            "\tOutput:  vous es d <eos>\n",
            "\tTarget:  tu es surmen e\n",
            "Epoch: 62  loss: 4.803061347454786\n",
            "\tOutput:  tout le monde se calme <eos> s curit\n",
            "\tTarget:  tout le monde se sentit en s curit\n",
            "Epoch: 63  loss: 4.761145466938615\n",
            "\tOutput:  vous es tr s chouette\n",
            "\tTarget:  tu es tr s sympa\n",
            "Epoch: 64  loss: 4.759196834638715\n",
            "\tOutput:  notre ce formulaire\n",
            "\tTarget:  remplis ce formulaire\n",
            "Epoch: 65  loss: 4.728982327505946\n",
            "\tOutput:  n'avezvous pas soif\n",
            "\tTarget:  n'astu pas soif\n",
            "Epoch: 66  loss: 4.716479049995542\n",
            "\tOutput:  vous es tr s timide\n",
            "\tTarget:  tu es tr s timide\n",
            "Epoch: 67  loss: 4.707464961335063\n",
            "\tOutput:  tout le monde devrait y <eos>\n",
            "\tTarget:  tout le monde devrait y aller\n",
            "Epoch: 68  loss: 4.689728127792478\n",
            "\tOutput:  tu n'as pas le choix\n",
            "\tTarget:  tu n'avais pas le choix\n",
            "Epoch: 69  loss: 4.660540280863643\n",
            "\tOutput:  veuxtu te coup la main\n",
            "\tTarget:  veuxtu un coup de main\n",
            "Epoch: 70  loss: 4.657707646489143\n",
            "\tOutput:  ne soyez pas si f\n",
            "\tTarget:  ne sois pas si avare\n",
            "Epoch: 71  loss: 4.647073166444898\n",
            "\tOutput:  tu tes tes <eos>\n",
            "\tTarget:  vous vous exprimez bien\n",
            "Epoch: 72  loss: 4.615645868703723\n",
            "\tOutput:  ne me pas de moi\n",
            "\tTarget:  ne t'approche pas de moi\n",
            "Epoch: 73  loss: 4.588475139811635\n",
            "\tOutput:  connaistu le ais\n",
            "\tTarget:  parlestu fran ais\n",
            "Epoch: 74  loss: 4.595192816108465\n",
            "\tOutput:  vous tes fort s contrari\n",
            "\tTarget:  vous tes tr s contrari\n",
            "Epoch: 75  loss: 4.563471740111709\n",
            "\tOutput:  pourquoi tom a t licenci\n",
            "\tTarget:  pourquoi tom atil t vir\n",
            "Epoch: 76  loss: 4.5660681035369635\n",
            "\tOutput:  tu as manqu le pr\n",
            "\tTarget:  tu as loup une tache\n",
            "Epoch: 77  loss: 4.506250023841858\n",
            "\tOutput:  vous le pinards propri taires\n",
            "\tTarget:  c'est vous les propri taires\n",
            "Epoch: 78  loss: 4.510969921946526\n",
            "\tOutput:  tu comme tu aimes faim\n",
            "\tTarget:  estce que tu aimes moscou\n",
            "Epoch: 79  loss: 4.508324380964041\n",
            "\tOutput:  ne m'oblige pas <eos>\n",
            "\tTarget:  ne m'obligez pas rester\n",
            "Epoch: 80  loss: 4.47696796990931\n",
            "\tOutput:  ton livre est ici\n",
            "\tTarget:  ton livre est ici\n",
            "Epoch: 81  loss: 4.488387703895569\n",
            "\tOutput:  tous sommes sommes toutes lev tes\n",
            "\tTarget:  nous nous sommes tous mis debout\n",
            "Epoch: 82  loss: 4.466539861634374\n",
            "\tOutput:  astu astu de t <eos>\n",
            "\tTarget:  en avezvous bient t fini\n",
            "Epoch: 83  loss: 4.451297082006931\n",
            "\tOutput:  vous tes trop trop tard\n",
            "\tTarget:  vous tes venus trop tard\n",
            "Epoch: 84  loss: 4.41842651180923\n",
            "\tOutput:  tu pouvez ta maintenant\n",
            "\tTarget:  vous pouvez entrer maintenant\n",
            "Epoch: 85  loss: 4.426436450332403\n",
            "\tOutput:  aimestu cie de\n",
            "\tTarget:  appr ciestu wagner\n",
            "Epoch: 86  loss: 4.403799029067159\n",
            "\tOutput:  vous es tr timide\n",
            "\tTarget:  tu es fort craintif\n",
            "Epoch: 87  loss: 4.399994904175401\n",
            "\tOutput:  vous ne m'y <eos> dessus <eos>\n",
            "\tTarget:  tu ne seras pas fusill e\n",
            "Epoch: 88  loss: 4.3766142055392265\n",
            "\tOutput:  vous tes trop maigrichonne\n",
            "\tTarget:  vous tes trop maigrichon\n",
            "Epoch: 89  loss: 4.359932923689485\n",
            "\tOutput:  estu avezvous s r\n",
            "\tTarget:  en estu s re\n",
            "Epoch: 90  loss: 4.363347427919507\n",
            "\tOutput:  vous tes tr s dr\n",
            "\tTarget:  vous tes tr s marrants\n",
            "Epoch: 91  loss: 4.329760232940316\n",
            "\tOutput:  aije fait pr\n",
            "\tTarget:  aije bien capt\n",
            "Epoch: 92  loss: 4.332412086427212\n",
            "\tOutput:  vous es t le mon nez\n",
            "\tTarget:  tu m'as p t le nez\n",
            "Epoch: 93  loss: 4.309286992996931\n",
            "\tOutput:  vous tes d gueulasse r\n",
            "\tTarget:  vous tes d go tantes\n",
            "Epoch: 94  loss: 4.288216350600123\n",
            "\tOutput:  vous es important\n",
            "\tTarget:  tu es important\n",
            "Epoch: 95  loss: 4.300622269511223\n",
            "\tOutput:  vous tes tes <eos>\n",
            "\tTarget:  vous vous exprimez bien\n",
            "Epoch: 96  loss: 4.28414062410593\n",
            "\tOutput:  tout est <eos> compte\n",
            "\tTarget:  tout a son importance\n",
            "Epoch: 97  loss: 4.268977288156748\n",
            "\tOutput:  vous toutes qu'astu\n",
            "\tTarget:  avezvous bien dormi\n",
            "Epoch: 98  loss: 4.269168214872479\n",
            "\tOutput:  remplissez le ann\n",
            "\tTarget:  remplissez les blancs\n",
            "Epoch: 99  loss: 4.244105326011777\n",
            "\tOutput:  tu es matinal <eos> <eos>\n",
            "\tTarget:  tu es l t t\n",
            "Epoch: 100  loss: 4.224152905866504\n",
            "\tOutput:  connaistu du ais\n",
            "\tTarget:  parlestu fran ais\n"
          ],
          "name": "stdout"
        }
      ]
    },
    {
      "cell_type": "markdown",
      "metadata": {
        "id": "mw4oioTQmnXC",
        "colab_type": "text"
      },
      "source": [
        "# Test your translator\n",
        "\n",
        "##### Unless you speak french you're going have to check it with google translate https://translate.google.com/\n",
        "##### I found it started doing alright once the loss got below 10 but this might take a while"
      ]
    },
    {
      "cell_type": "code",
      "metadata": {
        "id": "42lq6wYrmnXC",
        "colab_type": "code",
        "outputId": "44ec6b32-d2d7-4623-b146-72006e6b595f",
        "colab": {
          "base_uri": "https://localhost:8080/",
          "height": 34
        }
      },
      "source": [
        "sentence = 'have you had a good morning'\n",
        "translate(sentence)"
      ],
      "execution_count": 21,
      "outputs": [
        {
          "output_type": "execute_result",
          "data": {
            "text/plain": [
              "'on dirait que tu es'"
            ]
          },
          "metadata": {
            "tags": []
          },
          "execution_count": 21
        }
      ]
    },
    {
      "cell_type": "markdown",
      "metadata": {
        "id": "M2Po6aqDmnXF",
        "colab_type": "text"
      },
      "source": [
        "#### Test it on testing data"
      ]
    },
    {
      "cell_type": "code",
      "metadata": {
        "id": "cjvmdMx3mnXF",
        "colab_type": "code",
        "outputId": "d61ebc20-867b-4a3b-cb09-1ec1d3be3ec1",
        "colab": {
          "base_uri": "https://localhost:8080/",
          "height": 282
        }
      },
      "source": [
        "model.eval()\n",
        "scores = []\n",
        "preds = []\n",
        "targetlist = []\n",
        "for j,(context, target) in enumerate(testloader):\n",
        "        trg_input = target[:,:-1]\n",
        "        targets = target[:,1:].contiguous().view(-1)\n",
        "        targetlist.append(targets)\n",
        "        src,trg = mask(context,trg_input)\n",
        "        output = model(context,trg_input,src,trg)\n",
        "        pred = F.softmax(output,2).argmax(2)\n",
        "        preds.append(pred.detach())\n",
        "        correct = sum(pred[0][targets!=fr_to_ix['<pad>']]==targets[targets!=fr_to_ix['<pad>']]).item()/len(targets[targets!=fr_to_ix['<pad>']])\n",
        "        scores.append(correct)\n",
        "plt.plot(scores)\n",
        "print('Average # of words correct',np.mean(scores))"
      ],
      "execution_count": 22,
      "outputs": [
        {
          "output_type": "stream",
          "text": [
            "Average # of words correct 0.5982164502164502\n"
          ],
          "name": "stdout"
        },
        {
          "output_type": "display_data",
          "data": {
            "image/png": "[encoded data removed]",
            "text/plain": [
              "<Figure size 432x288 with 1 Axes>"
            ]
          },
          "metadata": {
            "tags": [],
            "needs_background": "light"
          }
        }
      ]
    },
    {
      "cell_type": "markdown",
      "metadata": {
        "id": "0tgN-ed3mnXI",
        "colab_type": "text"
      },
      "source": [
        "# MULTI-HEAD ATTENTION (Optional)"
      ]
    },
    {
      "cell_type": "code",
      "metadata": {
        "id": "7hJQS00FmnXI",
        "colab_type": "code",
        "colab": {}
      },
      "source": [
        "class multi_attention(nn.Module):\n",
        "    def __init__(self,dim,encoder_dim,dropout = .1):\n",
        "        super().__init__()\n",
        "        \n",
        "        heads = []\n",
        "        for i in range(???): ### TODO ### CHOOSE THE # OF HEADS YOU WANT\n",
        "            heads.append(???) ### TODO ### ADD SELF_ATTENTION LAYERS TO HEADS\n",
        "        \n",
        "        self.heads = nn.ModuleList(heads)\n",
        "        \n",
        "        self.linear = nn.Linear(???,encoder_dim) ### TODO ###\n",
        "    \n",
        "    \n",
        "    def forward(self,x,mask=None):\n",
        "        headoutputs = [layer(x,mask) for layer in self.heads]\n",
        "        headoutputs = torch.cat(headoutputs,dim=2)\n",
        "        return self.linear(headoutputs)\n",
        "    \n",
        "class encoder(nn.Module):\n",
        "    def __init__(self,dim,enc_dim,vocab_size,dropout=.1):\n",
        "        super().__init__()\n",
        "        self.dim = dim\n",
        "        self.enc_dim = enc_dim\n",
        "        self.attention = multi_attention(dim,enc_dim,dropout)\n",
        "        self.norm1 = nn.LayerNorm(enc_dim)\n",
        "        self.linear = nn.Sequential(\n",
        "            nn.Linear(enc_dim,enc_dim),\n",
        "            nn.ReLU()\n",
        "        )\n",
        "        self.residual = nn.Linear(dim,enc_dim)\n",
        "        self.norm2 = nn.LayerNorm(enc_dim)\n",
        "    \n",
        "    def forward(self,x,mask):\n",
        "        z = self.attention(x,mask)\n",
        "        if self.dim != self.enc_dim:\n",
        "            x = self.residual(x)\n",
        "        z = self.norm1(x+z)\n",
        "        z2 = self.linear(z)\n",
        "        return self.norm2(z+z2)\n",
        "     \n",
        "    \n",
        "class decoder(nn.Module):\n",
        "    def __init__(self,dim,input_size,vocab_size,dropout=.1):\n",
        "        super().__init__()\n",
        "        self.attention = multi_attention(input_size,dim,dropout)\n",
        "        self.norm1 = nn.LayerNorm(dim)\n",
        "        self.EDattention = encdec_attention(dim,dropout)\n",
        "        self.norm2 = nn.LayerNorm(dim)\n",
        "        self.linear = nn.Sequential(\n",
        "            nn.Linear(dim,dim),\n",
        "            nn.ReLU()\n",
        "        )\n",
        "        self.norm3 = nn.LayerNorm(dim)\n",
        "    \n",
        "    def forward(self,x,k,v,src,trg):\n",
        "        z = self.attention(x,trg)\n",
        "        z = self.norm1(z+x)\n",
        "        z2 = self.EDattention(z,k,v,src)\n",
        "        z2 = self.norm2(z2+z)\n",
        "        z3 = self.linear(z2)\n",
        "        return self.norm3(z3+z2)\n",
        "    \n",
        "class transformer(nn.Module):\n",
        "    def __init__(self,dim,encoder_dim,enc_vocab_size,dec_vocab_size,input_size):\n",
        "        super().__init__()\n",
        "        self.embedding1 = nn.Embedding(enc_vocab_size,dim)\n",
        "        self.embedding2 = nn.Embedding(dec_vocab_size,encoder_dim)\n",
        "        \n",
        "        self.pe1 = PositionalEncoder(dim,enmax)\n",
        "        self.pe2 = PositionalEncoder(encoder_dim,frmax)\n",
        "        self.encoders = []\n",
        "    \n",
        "        self.encoders.append(encoder(dim,encoder_dim,enc_vocab_size))   ### FEEL FREE TO ADD OR REMOVE ENCODERS\n",
        "        self.encoders = nn.ModuleList(self.encoders)\n",
        "        \n",
        "        self.decoders = []\n",
        "        self.decoders.append(decoder(encoder_dim,encoder_dim,dec_vocab_size)) ### FEEL FREE TO ADD OR REMOVE ENCODERS\n",
        "        self.decoders = nn.ModuleList(self.decoders)\n",
        "        \n",
        "        self.final = nn.Sequential(\n",
        "            nn.Linear(encoder_dim,dec_vocab_size),\n",
        "            nn.LogSoftmax(2)\n",
        "        )\n",
        "        \n",
        "        self.k = nn.Linear(encoder_dim,encoder_dim)\n",
        "        self.v = nn.Linear(encoder_dim,encoder_dim)\n",
        "        \n",
        "    def create_dec_KV(self,z):\n",
        "        K = self.k(z)\n",
        "        V = self.v(z)\n",
        "        return K,V\n",
        "    \n",
        "    def encode(self,x,src):\n",
        "        x = self.embedding1(x)\n",
        "        x = self.pe1(x)\n",
        "        for layer in self.encoders:\n",
        "            x = layer(x,src)\n",
        "        return x\n",
        "    \n",
        "    def decode(self,y,K,V,src,trg):\n",
        "        y = self.embedding2(y)\n",
        "        y = self.pe2(y)\n",
        "        for layer in self.decoders:\n",
        "            y = layer(y,K,V,src,trg)\n",
        "        return self.final(y)\n",
        "        \n",
        "    \n",
        "    def forward(self,x,y,src,trg):\n",
        "        x = self.encode(x,src)\n",
        "        K,V = self.create_dec_KV(x)\n",
        "        y = self.decode(y,K,V,src,trg)\n",
        "        \n",
        "        return y\n",
        "\n"
      ],
      "execution_count": 0,
      "outputs": []
    },
    {
      "cell_type": "code",
      "metadata": {
        "id": "eGMFsX2-mnXL",
        "colab_type": "code",
        "colab": {}
      },
      "source": [
        "model = transformer(enmax,enmax,len(envocab),len(frvocab),frmax)\n",
        "model = model.to(device)"
      ],
      "execution_count": 0,
      "outputs": []
    },
    {
      "cell_type": "code",
      "metadata": {
        "id": "QhcXcB0DmnXP",
        "colab_type": "code",
        "colab": {}
      },
      "source": [
        "optimizer = optim.Adam(model.parameters(), lr=0.01,weight_decay=.00001)\n",
        "scheduler = torch.optim.lr_scheduler.ReduceLROnPlateau(optimizer,factor=.1,patience=10,threshold=1,min_lr=.0001)\n",
        "criterion = nn.NLLLoss()"
      ],
      "execution_count": 0,
      "outputs": []
    },
    {
      "cell_type": "code",
      "metadata": {
        "id": "ElGw6aChmnXS",
        "colab_type": "code",
        "colab": {}
      },
      "source": [
        "for i in range(50):\n",
        "    model.train()\n",
        "    total_loss = 0\n",
        "    for j,(context, target) in enumerate(trainloader):\n",
        "        trg_input = target[:,:-1]\n",
        "        outmask = target[:,1:]!= fr_to_ix['<pad>']\n",
        "        targets = target[:,1:].contiguous().view(-1)\n",
        "        src,trg = mask(context,trg_input)\n",
        "        output = model(context,trg_input,src,trg)\n",
        "        optimizer.zero_grad()\n",
        "        loss = criterion(output.view(output.shape[0]*output.shape[1],-1),targets)\n",
        "        loss.backward()\n",
        "        total_loss += loss.item()\n",
        "        optimizer.step()\n",
        "    scheduler.step(total_loss)\n",
        "    print('Epoch:', i+1,' loss:', total_loss)\n",
        "    model.eval()\n",
        "    scores = []\n",
        "    preds = []\n",
        "    targetlist = []\n",
        "    for j,(context, target) in enumerate(valloader):\n",
        "            trg_input = target[:,:-1]\n",
        "            targets = target.contiguous().view(-1)\n",
        "            targetlist.append(targets)\n",
        "            src,trg = mask(context,trg_input)\n",
        "            output = model(context,trg_input,src,trg)\n",
        "            pred = F.softmax(output,2).argmax(2)\n",
        "            preds.append(pred)\n",
        "            break\n",
        "    compareoutput(preds,targetlist,loc=0)"
      ],
      "execution_count": 0,
      "outputs": []
    },
    {
      "cell_type": "markdown",
      "metadata": {
        "id": "iF__oggvmnXU",
        "colab_type": "text"
      },
      "source": [
        "# Test your  multi-head transformer"
      ]
    },
    {
      "cell_type": "code",
      "metadata": {
        "id": "PstlS2HgmnXV",
        "colab_type": "code",
        "colab": {}
      },
      "source": [
        "sentence = 'how are you'\n",
        "translate(sentence)"
      ],
      "execution_count": 0,
      "outputs": []
    },
    {
      "cell_type": "markdown",
      "metadata": {
        "id": "1ilwZtjkmnXX",
        "colab_type": "text"
      },
      "source": [
        "# QUESTION\n",
        "\n",
        "#### 1) Was the runtime of your multi-head transformer noticably longer than the single head one? What about the speed the loss decreased? If you had the time and resources to train it to a good spot, how did the translation quality compare to the single-headed transformer?\n",
        "\n",
        "#### 2)Try adding encoders and decoders to one of your transformers. Does having the extra layers improve performance? How does it affect runtime? \n",
        "The performance definitely got better with more layers. The runtime wasn't too awful on gpu."
      ]
    },
    {
      "cell_type": "code",
      "metadata": {
        "id": "-9g8Qj_KmnXY",
        "colab_type": "code",
        "colab": {}
      },
      "source": [
        ""
      ],
      "execution_count": 0,
      "outputs": []
    }
  ]
}